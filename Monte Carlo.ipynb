{
 "cells": [
  {
   "cell_type": "code",
   "execution_count": 2,
   "id": "adbe13d6",
   "metadata": {},
   "outputs": [
    {
     "name": "stdout",
     "output_type": "stream",
     "text": [
      "[13176856  9752609  8972394  6111629]\n"
     ]
    }
   ],
   "source": [
    "import numpy as np\n",
    "arr=[[351236, 259961, 239164, 162909], \n",
    "     [429379, 317797, 292373, 199153], [\n",
    "         136698, 101174, 93080, 63402], [174793, 129370, 119020, 81072], [297709, 220344, 202716, 138082], \n",
    "     [202909, 150180, 138165, 94112], [297709, 220344, 202716, 138082], [162926, 120587, 110940, 75567], \n",
    "     [148144, 109646, 100874, 68711], [351236, 259961, 239164, 162909], [429379, 317797, 292373, 199153], \n",
    "     [390075, 288707, 265610, 180923], [508127, 376081, 345994, 235677], [145650, 107800, 99176, 67554],\n",
    "     [362245, 268109, 246660, 168015], [731468, 541382, 498072, 339266], [1069841, 791823, 728477, 496209], \n",
    "     [514187, 380566, 350121, 238488], [260296, 192653, 177241, 120729], [236912, 175346, 161318, 109883], \n",
    "     [220549, 163235, 150176, 102294], [338037, 250191, 230176, 156786], [309283, 228910, 210597, 143450], \n",
    "     [455786, 337342, 310354, 211401], [206730, 153008, 140767, 95885], [1009245, 746974, 687216, 468104], \n",
    "     [569748, 421689, 387954, 264258], [278192, 205899, 189427, 129030], [423377, 313355, 288286, 196369],\n",
    "     [218126, 161442, 148527, 101170], [335329, 248188, 228333, 155531], [1155749, 855406, 786973, 536054], \n",
    "     [455786, 337342, 310354, 211401]]\n",
    "income_proportions = {\n",
    "        'Low-Income': 0.304,\n",
    "        'Lower-Middle-Income': 0.225,\n",
    "        'Upper-Middle-Income': 0.207,\n",
    "        'High-Income': 0.141\n",
    "    }\n",
    "\n",
    "\n",
    "column_sums = np.sum(arr, axis=0)\n",
    "print(column_sums)\n"
   ]
  },
  {
   "cell_type": "code",
   "execution_count": null,
   "id": "82bfa9cc-736a-44a7-95ad-14c302efc5f4",
   "metadata": {},
   "outputs": [],
   "source": []
  },
  {
   "cell_type": "code",
   "execution_count": 3,
   "id": "f0c0b1a9",
   "metadata": {},
   "outputs": [
    {
     "name": "stdout",
     "output_type": "stream",
     "text": [
      "38013488\n"
     ]
    }
   ],
   "source": [
    "print(sum(column_sums))"
   ]
  },
  {
   "cell_type": "code",
   "execution_count": 4,
   "id": "911d7cf7",
   "metadata": {},
   "outputs": [],
   "source": [
    "array_cars=np.array(arr)*115/1000\n",
    "            "
   ]
  },
  {
   "cell_type": "code",
   "execution_count": 11,
   "id": "9b9dab4e",
   "metadata": {},
   "outputs": [
    {
     "name": "stdout",
     "output_type": "stream",
     "text": [
      "[1515338.44  1121550.035 1031825.31   702837.335]\n"
     ]
    }
   ],
   "source": [
    "column_sums = np.sum(array_cars, axis=0)\n",
    "print(column_sums)"
   ]
  },
  {
   "cell_type": "code",
   "execution_count": 12,
   "id": "e7820c64",
   "metadata": {},
   "outputs": [
    {
     "name": "stdout",
     "output_type": "stream",
     "text": [
      "4371551.119999999\n"
     ]
    }
   ],
   "source": [
    "print(sum(column_sums))"
   ]
  },
  {
   "cell_type": "code",
   "execution_count": 44,
   "id": "0e5cd20e",
   "metadata": {
    "scrolled": true
   },
   "outputs": [
    {
     "name": "stdout",
     "output_type": "stream",
     "text": [
      "[1515077, 1121356, 1031648, 702716]\n",
      "[613652, 417995]\n",
      "[584039, 537316]\n",
      "[870668, 644408]\n",
      "0.27476500000000004\n",
      "38013488\n"
     ]
    }
   ],
   "source": [
    "percentages = [0.111152, 0.062446 ,0.033917, 0.06725 ]\n",
    "print([int(4983808*0.304),int(4983808*0.225),int(4983808*0.207),int(4983808*0.141)])\n",
    "print([int(1031648/0.348*0.207),int(1031648/0.348*0.141)])\n",
    "print([int(1121356/0.432*0.225),int(1121356/0.432*0.207)])\n",
    "print([int(1515077/0.529*0.304),int(1515077/0.529*0.225)])\n",
    "\n",
    "print(sum(percentages))\n",
    "print(sum(column_sums))"
   ]
  },
  {
   "cell_type": "code",
   "execution_count": null,
   "id": "d046b6d0",
   "metadata": {},
   "outputs": [],
   "source": []
  },
  {
   "cell_type": "code",
   "execution_count": null,
   "id": "f883c52d",
   "metadata": {},
   "outputs": [],
   "source": []
  },
  {
   "cell_type": "code",
   "execution_count": 52,
   "id": "6ffbe124",
   "metadata": {},
   "outputs": [
    {
     "name": "stdout",
     "output_type": "stream",
     "text": [
      "[1999903.0, 814899.0, 294068.0, 138214.0]\n",
      "[174920.0, 119148.0]\n",
      "[424427.0, 390472.0]\n",
      "[1149283.0, 850621.0]\n"
     ]
    }
   ],
   "source": [
    "percentages = [ 1,  0.72670791,  0.2850466,   0.19668465]\n",
    "print([np.ceil(4983808*0.304*1.32),np.ceil(4983808*0.225*0.72670791),np.ceil(4983808*0.207*0.2850466),np.ceil(4983808*0.141*0.19668465)])\n",
    "print([np.ceil(294067/0.348*0.207),np.ceil(294067/0.348*0.141)])\n",
    "print([np.ceil(814898/0.432*0.225),np.ceil(814898/0.432*0.207)])\n",
    "print([np.ceil(1999903/0.529*0.304),np.ceil(1999903/0.529*0.225)])"
   ]
  },
  {
   "cell_type": "code",
   "execution_count": 23,
   "id": "b7ab182c",
   "metadata": {},
   "outputs": [
    {
     "name": "stdout",
     "output_type": "stream",
     "text": [
      "[[ 40392  29895  27503  18734]\n",
      " [ 49378  36546  33622  22902]\n",
      " [ 15720  11635  10704   7291]\n",
      " [ 20101  14877  13687   9323]\n",
      " [ 34236  25339  23312  15879]\n",
      " [ 23334  17270  15888  10822]\n",
      " [ 34236  25339  23312  15879]\n",
      " [ 18736  13867  12758   8690]\n",
      " [ 17036  12609  11600   7901]\n",
      " [ 40392  29895  27503  18734]\n",
      " [ 49378  36546  33622  22902]\n",
      " [ 44858  33201  30545  20806]\n",
      " [ 58434  43249  39789  27102]\n",
      " [ 16749  12397  11405   7768]\n",
      " [ 41658  30832  28365  19321]\n",
      " [ 84118  62258  57278  39015]\n",
      " [123031  91059  83774  57064]\n",
      " [ 59131  43765  40263  27426]\n",
      " [ 29934  22155  20382  13883]\n",
      " [ 27244  20164  18551  12636]\n",
      " [ 25363  18772  17270  11763]\n",
      " [ 38874  28771  26470  18030]\n",
      " [ 35567  26324  24218  16496]\n",
      " [ 52415  38794  35690  24311]\n",
      " [ 23773  17595  16188  11026]\n",
      " [116063  85902  79029  53831]\n",
      " [ 65521  48494  44614  30389]\n",
      " [ 31992  23678  21784  14838]\n",
      " [ 48688  36035  33152  22582]\n",
      " [ 25084  18565  17080  11634]\n",
      " [ 38562  28541  26258  17886]\n",
      " [132911  98371  90501  61646]\n",
      " [ 52415  38794  35690  24311]]\n"
     ]
    }
   ],
   "source": [
    "print(array_cars)"
   ]
  },
  {
   "cell_type": "code",
   "execution_count": 17,
   "id": "380eaaee",
   "metadata": {},
   "outputs": [
    {
     "name": "stdout",
     "output_type": "stream",
     "text": [
      "[168403, 70024, 34990, 47257]\n"
     ]
    }
   ],
   "source": [
    "print([int(4983808*0.304*0.111152),int(4983808*0.225*0.062446),int(4983808*0.207*0.033917),int(4983808*0.141*0.06725)])"
   ]
  },
  {
   "cell_type": "code",
   "execution_count": 18,
   "id": "7c16161b",
   "metadata": {},
   "outputs": [
    {
     "name": "stdout",
     "output_type": "stream",
     "text": [
      "[36470, 33553]\n",
      "[96776, 71626]\n",
      "[20813, 14176]\n"
     ]
    }
   ],
   "source": [
    "print([int( 70024/0.432*0.225),int(70024/0.432*0.207)])\n",
    "print([int(168403/0.529*0.304),int(168403/0.529*0.225)])\n",
    "print([int(34990/0.348*0.207),int(34990/0.348*0.141)])"
   ]
  },
  {
   "cell_type": "code",
   "execution_count": 3,
   "id": "70054141",
   "metadata": {},
   "outputs": [
    {
     "name": "stdout",
     "output_type": "stream",
     "text": [
      "[[ 96506.  71427.  65713.  44761.]\n",
      " [117976.  87318.  80332.  54719.]\n",
      " [ 37559.  27799.  25575.  17420.]\n",
      " [ 48026.  35546.  32702.  22275.]\n",
      " [ 81799.  60542.  55698.  37939.]\n",
      " [ 55751.  41263.  37962.  25858.]\n",
      " [ 81799.  60542.  55698.  37939.]\n",
      " [ 44766.  33132.  30482.  20763.]\n",
      " [ 40704.  30126.  27716.  18879.]\n",
      " [ 96506.  71427.  65713.  44761.]\n",
      " [117976.  87318.  80332.  54719.]\n",
      " [107177.  79325.  72979.  49710.]\n",
      " [139613. 103332.  95065.  64755.]\n",
      " [ 40019.  29619.  27250.  18561.]\n",
      " [ 99530.  73666.  67772.  46164.]\n",
      " [200978. 148750. 136850.  93217.]\n",
      " [293950. 217561. 200156. 136338.]\n",
      " [141278. 104564.  96199.  65527.]\n",
      " [ 71519.  52933.  48699.  33172.]\n",
      " [ 65094.  48178.  44324.  30191.]\n",
      " [ 60598.  44850.  41262.  28106.]\n",
      " [ 92879.  68742.  63243.  43079.]\n",
      " [ 84979.  62895.  57864.  39414.]\n",
      " [125232.  92688.  85273.  58085.]\n",
      " [ 56801.  42040.  38677.  26345.]\n",
      " [277300. 205239. 188819. 128616.]\n",
      " [156544. 115863. 106594.  72608.]\n",
      " [ 76436.  56573.  52047.  35452.]\n",
      " [116327.  86097.  79209.  53954.]\n",
      " [ 59932.  44358.  40809.  27797.]\n",
      " [ 92135.  68192.  62737.  42734.]\n",
      " [317554. 235031. 216229. 147286.]\n",
      " [125232.  92688.  85273.  58085.]]\n"
     ]
    }
   ],
   "source": [
    "import numpy as np\n",
    "\n",
    "def scale_and_round_2d_array(array, scale_factor):\n",
    "    scaled_and_rounded_array = np.round((np.array(array)*scale_factor))\n",
    "    return scaled_and_rounded_array\n",
    "\n",
    "# Example usage:\n",
    "original_array = arr\n",
    "\n",
    "scaled_and_rounded_array = scale_and_round_2d_array(original_array, 0.27476)\n",
    "print(scaled_and_rounded_array)\n"
   ]
  },
  {
   "cell_type": "code",
   "execution_count": 4,
   "id": "506b9ca3",
   "metadata": {},
   "outputs": [
    {
     "name": "stdout",
     "output_type": "stream",
     "text": [
      "[3620475. 2679624. 2465253. 1679229.]\n",
      "10444581.0\n"
     ]
    }
   ],
   "source": [
    "scaled_and_rounded_array\n",
    "column_sums = np.sum(scaled_and_rounded_array, axis=0)\n",
    "print(column_sums)\n",
    "print(sum(column_sums))"
   ]
  },
  {
   "cell_type": "code",
   "execution_count": 17,
   "id": "0ba5faae",
   "metadata": {},
   "outputs": [],
   "source": [
    "import random\n",
    "# num_A+num_B+num_C+num_D=sum(arr)\n",
    "def distribution(arr, num_A, num_B, num_C, num_D):\n",
    "    limit_1=[]\n",
    "    limit_2=[]\n",
    "    limit_3=[]\n",
    "    limit_4=[]\n",
    "    for i in range(len(arr)):\n",
    "        limit_1.append(arr[i][0])\n",
    "        limit_2.append(arr[i][1])\n",
    "        limit_3.append(arr[i][2])\n",
    "        limit_4.append(arr[i][3])\n",
    "\n",
    "    # result[:][0]=A, result[:][1]=B , result[:][2]=C, \n",
    "    # Total number of objects to distribute\n",
    "    total_objects_A = num_A\n",
    "    num_areas=len(arr)\n",
    "    # Initialize an array to store the distribution\n",
    "    distribution_A = [0] * num_areas\n",
    "\n",
    "    # Distribute objects to people while respecting their limits\n",
    "    while total_objects_A > 0:\n",
    "        # Choose a random person\n",
    "        person = random.randint(0, num_areas - 1)\n",
    "\n",
    "        # Check if the selected person has reached their limit\n",
    "        if distribution_A[person] < limit_4[person]:\n",
    "            # Distribute one object to the selected person\n",
    "            obj = random.randint(1, min(int(total_objects_A/10),int((limit_4[person]-distribution_A[person])))+1)\n",
    "            distribution_A[person] += obj\n",
    "            total_objects_A -= obj\n",
    "\n",
    "    # Print the distribution\n",
    "    distribution_B = [0] * num_areas\n",
    "    for i in range(num_areas):\n",
    "        if distribution_A[i] < limit_4[i]:\n",
    "            distribution_B[i] = limit_4[i] - distribution_A[i]\n",
    "    total_objects_B = num_B-(sum(limit_4)-sum(distribution_A))\n",
    "    # Total number of objects to distribute\n",
    "    total_objects_D = num_D\n",
    "\n",
    "    # Initialize an array to store the distribution\n",
    "    distribution_D = [0] * num_areas\n",
    "\n",
    "    # Distribute objects to people while respecting their limits\n",
    "    while total_objects_D > 0:\n",
    "        # Choose a random person\n",
    "        person = random.randint(0, num_areas - 1)\n",
    "\n",
    "        # Check if the selected person has reached their limit\n",
    "        if distribution_D[person] < limit_1[person]:\n",
    "            # Distribute one object to the selected person\n",
    "            obj = random.randint(1,1+ min(int(total_objects_D/10),int((limit_1[person]-distribution_D[person]))))\n",
    "            distribution_D[person] += obj\n",
    "            total_objects_D -= obj\n",
    "    distribution_C = [0] * num_areas\n",
    "    for i in range(num_areas):\n",
    "        if distribution_D[i] < limit_1[i]:\n",
    "            distribution_C[i] = limit_1[i] - distribution_D[i]\n",
    "    \n",
    "    result=[distribution_A,distribution_B, distribution_C, distribution_D]\n",
    "\n",
    "    # Initialize an array to store the distribution\n",
    "    distribution_B= [[0]* num_areas,[0]* num_areas]\n",
    "    distribution_C= [[0]* num_areas,[0]* num_areas]\n",
    "    # Distribute objects to people while respecting their limits\n",
    "    limits=[limit_2,limit_3]\n",
    "    while total_objects_B > 0:\n",
    "        # Choose a random person\n",
    "        person = random.randint(0, num_areas - 1)\n",
    "        a = random.randint(0,1)\n",
    "        # Check if the selected person has reached their limit\n",
    "        if distribution_B[a][person] < limits[a][person]:\n",
    "            # Distribute one object to the selected person\n",
    "            obj = random.randint(0, 1+min(int(total_objects_B/10),int((limits[a][person]-distribution_B[a][person]))))       \n",
    "            distribution_B[a][person] += obj\n",
    "            total_objects_B -= obj\n",
    "    for i in range(num_areas):\n",
    "        if distribution_B[0][i] < limits[0][i]:\n",
    "            distribution_C[0][i] = limits[0][i] - distribution_B[0][i]\n",
    "        if distribution_B[1][i] < limits[1][i]:\n",
    "            distribution_C[1][i] = limits[1][i] - distribution_B[1][i]\n",
    "    for i in range(num_areas):\n",
    "        result[1][i]=result[1][i]+distribution_B[0][i]+distribution_B[1][i]\n",
    "        result[2][i]=result[2][i]+distribution_C[0][i]+distribution_C[1][i]\n",
    "    return np.transpose(result)"
   ]
  },
  {
   "cell_type": "code",
   "execution_count": 6,
   "id": "9551e462",
   "metadata": {
    "scrolled": true
   },
   "outputs": [],
   "source": [
    "import random\n",
    "r=distribution(arr , 168403, 70024, 34990, 47257 )\n"
   ]
  },
  {
   "cell_type": "code",
   "execution_count": 7,
   "id": "16d349b1",
   "metadata": {},
   "outputs": [],
   "source": [
    "s=distribution(arr,1515077, 1121356, 1031648, 702716)\n"
   ]
  },
  {
   "cell_type": "code",
   "execution_count": 8,
   "id": "c9587703",
   "metadata": {},
   "outputs": [
    {
     "name": "stdout",
     "output_type": "stream",
     "text": [
      "[  8395 154514 849881    480]\n",
      "[     75  199078 1039495      54]\n",
      "[  5173  58229 328509   2443]\n",
      "[  6123  74949 422236    947]\n"
     ]
    }
   ],
   "source": [
    "print(r[0])\n",
    "print(r[1])\n",
    "print(r[2])\n",
    "print(r[3])"
   ]
  },
  {
   "cell_type": "code",
   "execution_count": 9,
   "id": "55ddf30b",
   "metadata": {},
   "outputs": [
    {
     "name": "stdout",
     "output_type": "stream",
     "text": [
      "[[ 161819    1090  841151    9210]\n",
      " [  10152  189001 1033371    6178]\n",
      " [  61285    2117  323192    7760]\n",
      " [  20771   60301  382355   40828]\n",
      " [    790  137292  689390   31379]\n",
      " [   7659   86453  484780    6474]\n",
      " [  37654  100428  710956    9813]\n",
      " [   7946   67621  366327   28126]\n",
      " [  16175   52536  345865   12799]\n",
      " [  36252  126657  842540    7821]\n",
      " [  69303  129850  971086   68463]\n",
      " [  73785  107138  883043   61349]\n",
      " [ 154096   81581 1226443    3759]\n",
      " [  40157   27397  350174    2452]\n",
      " [  93699   74316  857150   19864]\n",
      " [  63301  275965 1743343   27579]\n",
      " [  14275  481934 2587976    2165]\n",
      " [  43374  195114 1170707   74167]\n",
      " [   1833  118896  590895   39295]\n",
      " [  24531   85352  542185   31391]\n",
      " [   2540   99754  524619    9341]\n",
      " [  64371   92415  812278    6126]\n",
      " [  43911   99539  708621   40169]\n",
      " [  21377  190024 1103209     273]\n",
      " [  33908   61977  498476    2029]\n",
      " [  30694  437410 2354395   89040]\n",
      " [   7708  256550 1368325   11066]\n",
      " [ 100281   28749  671698    1820]\n",
      " [  46014  150355 1022595    2423]\n",
      " [  62361   38809  526545    1550]\n",
      " [   6570  148961  811308     542]\n",
      " [ 134770  401284 2795821    2307]\n",
      " [  21715  189686 1058324   45158]]\n"
     ]
    }
   ],
   "source": [
    "print(s)"
   ]
  },
  {
   "cell_type": "code",
   "execution_count": 10,
   "id": "e9c846b6",
   "metadata": {},
   "outputs": [
    {
     "name": "stdout",
     "output_type": "stream",
     "text": [
      "1013270\n",
      "1238702\n",
      "394354\n",
      "504255\n"
     ]
    }
   ],
   "source": [
    "print(sum(r[0]))\n",
    "print(sum(r[1]))\n",
    "print(sum(r[2]))\n",
    "print(sum(r[3]))"
   ]
  },
  {
   "cell_type": "code",
   "execution_count": 11,
   "id": "e7974fdf",
   "metadata": {},
   "outputs": [
    {
     "name": "stdout",
     "output_type": "stream",
     "text": [
      "[[   8395  154514  849881     480]\n",
      " [     75  199078 1039495      54]\n",
      " [   5173   58229  328509    2443]\n",
      " [   6123   74949  422236     947]\n",
      " [    314  137768  720244     525]\n",
      " [   2639   91473  490802     452]\n",
      " [  13791  124291  716386    4383]\n",
      " [    907   74660  391114    3339]\n",
      " [    208   68503  358562     102]\n",
      " [     20  162889  850179     182]\n",
      " [    322  198831 1037381    2168]\n",
      " [  20147  160776  944377      15]\n",
      " [   5666  230011 1227251    2951]\n",
      " [   3829   63725  350056    2570]\n",
      " [  17425  150590  876447     567]\n",
      " [   4122  335144 1770860      62]\n",
      " [   1603  494606 2590141       0]\n",
      " [   2048  236440 1242302    2572]\n",
      " [   7829  112900  629302     888]\n",
      " [  11542   98341  572865     711]\n",
      " [   6370   95924  533369     591]\n",
      " [  13032  143754  816057    2347]\n",
      " [    260  143190  748406     384]\n",
      " [   1391  210010 1100000    3482]\n",
      " [   6661   89224  498360    2145]\n",
      " [    272  467832 2441280    2155]\n",
      " [    350  263908 1375845    3546]\n",
      " [  12926  116104  672869     649]\n",
      " [   6529  189840 1024969      49]\n",
      " [    736  100434  528007      88]\n",
      " [    435  155096  811004     846]\n",
      " [   5371  530683 2796720    1408]\n",
      " [   1892  209509 1099326    4156]]\n",
      "(33, 4)\n"
     ]
    }
   ],
   "source": [
    "import numpy as np\n",
    "print(r)\n",
    "print(np.shape(r))"
   ]
  },
  {
   "cell_type": "code",
   "execution_count": 4,
   "id": "d26bef0e",
   "metadata": {},
   "outputs": [],
   "source": [
    "def MonteCarlo(n,A,B_1,B_2,C_2,C_3,D_3,D_4,income_dist):\n",
    "    arr=[]\n",
    "    for i in range(n):\n",
    "        arr.append(distribution(income_dist,A,B_1,B_2,C_2,C_3,D_3,D_4))\n",
    "    return arr"
   ]
  },
  {
   "cell_type": "code",
   "execution_count": 7,
   "id": "02855598",
   "metadata": {},
   "outputs": [],
   "source": [
    "# Python File 1\n",
    "mc=MonteCarlo(1000,41863, 65317, 587853, 729550, 729550, 378036,94509,arr)\n",
    "import numpy as np\n",
    "\n",
    "\n",
    "# Assume you have 1000 2D arrays, each named array_0, array_1, ..., array_999\n",
    "# Save all arrays to a single text file\n",
    "\n",
    "all_arrays = []\n",
    "\n",
    "for i in range(1000):\n",
    "    array_name = f\"array_{i}\"\n",
    "    array = mc[i]  # Replace this with your actual 2D array\n",
    "    all_arrays.append(array)\n",
    "\n",
    "# Combine all arrays into a single 3D array\n",
    "stacked_arrays = np.stack(all_arrays)\n",
    "\n",
    "# Save the stacked arrays to a single text file\n",
    "np.savetxt(\"all_arrays.txt\", stacked_arrays.reshape((stacked_arrays.shape[0], -1)), delimiter=',')\n"
   ]
  },
  {
   "cell_type": "code",
   "execution_count": null,
   "id": "8f619c20",
   "metadata": {},
   "outputs": [],
   "source": [
    "mc=MonteCarlo(1000,801273, 476619, 699718, 612675, 665951, 734787, 992781,arr)\n",
    "import numpy as np\n",
    "\n",
    "\n",
    "# Assume you have 1000 2D arrays, each named array_0, array_1, ..., array_999\n",
    "# Save all arrays to a single text file\n",
    "\n",
    "all_arrays = []\n",
    "\n",
    "for i in range(1000):\n",
    "    array_name = f\"array_{i}\"\n",
    "    array = mc[i]  # Replace this with your actual 2D array\n",
    "    all_arrays.append(array)\n",
    "\n",
    "# Combine all arrays into a single 3D array\n",
    "stacked_arrays = np.stack(all_arrays)\n",
    "\n",
    "# Save the stacked arrays to a single text file\n",
    "np.savetxt(\"all_arrays.txt\", stacked_arrays.reshape((stacked_arrays.shape[0], -1)), delimiter=',')\n"
   ]
  },
  {
   "cell_type": "code",
   "execution_count": 19,
   "id": "8d657f5a",
   "metadata": {},
   "outputs": [
    {
     "name": "stdout",
     "output_type": "stream",
     "text": [
      "[[ 40392  29895  27503  18734]\n",
      " [ 49378  36546  33622  22902]\n",
      " [ 15720  11635  10704   7291]\n",
      " [ 20101  14877  13687   9323]\n",
      " [ 34236  25339  23312  15879]\n",
      " [ 23334  17270  15888  10822]\n",
      " [ 34236  25339  23312  15879]\n",
      " [ 18736  13867  12758   8690]\n",
      " [ 17036  12609  11600   7901]\n",
      " [ 40392  29895  27503  18734]\n",
      " [ 49378  36546  33622  22902]\n",
      " [ 44858  33201  30545  20806]\n",
      " [ 58434  43249  39789  27102]\n",
      " [ 16749  12397  11405   7768]\n",
      " [ 41658  30832  28365  19321]\n",
      " [ 84118  62258  57278  39015]\n",
      " [123031  91059  83774  57064]\n",
      " [ 59131  43765  40263  27426]\n",
      " [ 29934  22155  20382  13883]\n",
      " [ 27244  20164  18551  12636]\n",
      " [ 25363  18772  17270  11763]\n",
      " [ 38874  28771  26470  18030]\n",
      " [ 35567  26324  24218  16496]\n",
      " [ 52415  38794  35690  24311]\n",
      " [ 23773  17595  16188  11026]\n",
      " [116063  85902  79029  53831]\n",
      " [ 65521  48494  44614  30389]\n",
      " [ 31992  23678  21784  14838]\n",
      " [ 48688  36035  33152  22582]\n",
      " [ 25084  18565  17080  11634]\n",
      " [ 38562  28541  26258  17886]\n",
      " [132911  98371  90501  61646]\n",
      " [ 52415  38794  35690  24311]]\n"
     ]
    }
   ],
   "source": [
    "import numpy as np\n",
    "\n",
    "# The original array\n",
    "array_cars = np.array(array_cars)\n",
    "\n",
    "# Convert the array to integers\n",
    "array_cars = array_cars.astype(int)\n",
    "\n",
    "# Print the resulting integer array\n",
    "print(array_cars)\n"
   ]
  },
  {
   "cell_type": "code",
   "execution_count": 13,
   "id": "77459a3a",
   "metadata": {},
   "outputs": [],
   "source": [
    "mc1=MonteCarlo(1000,138213, 119148, 174920, 390472, 424427, 650621, 1249283,array_cars)\n"
   ]
  },
  {
   "cell_type": "code",
   "execution_count": 9,
   "id": "2e924715",
   "metadata": {},
   "outputs": [
    {
     "ename": "NameError",
     "evalue": "name 'mc1' is not defined",
     "output_type": "error",
     "traceback": [
      "\u001b[1;31m---------------------------------------------------------------------------\u001b[0m",
      "\u001b[1;31mNameError\u001b[0m                                 Traceback (most recent call last)",
      "Cell \u001b[1;32mIn[9], line 1\u001b[0m\n\u001b[1;32m----> 1\u001b[0m \u001b[38;5;28mprint\u001b[39m(\u001b[43mmc1\u001b[49m)\n",
      "\u001b[1;31mNameError\u001b[0m: name 'mc1' is not defined"
     ]
    }
   ],
   "source": [
    "print(mc1)"
   ]
  },
  {
   "cell_type": "code",
   "execution_count": 1,
   "id": "54039218",
   "metadata": {},
   "outputs": [
    {
     "name": "stdout",
     "output_type": "stream",
     "text": [
      "3247080\n"
     ]
    }
   ],
   "source": [
    "print(138213+ 119147+ 174919+ 390471+ 424426+ 850621+ 1149283)"
   ]
  },
  {
   "cell_type": "code",
   "execution_count": 43,
   "id": "8520baca",
   "metadata": {},
   "outputs": [
    {
     "name": "stdout",
     "output_type": "stream",
     "text": [
      "320671\n"
     ]
    }
   ],
   "source": [
    "print(47257+14176+20813+ 33553+ 36470+ 71626+ 96776)"
   ]
  },
  {
   "cell_type": "code",
   "execution_count": 22,
   "id": "74f212fb",
   "metadata": {},
   "outputs": [
    {
     "data": {
      "image/png": "[encoded data removed]",
      "text/plain": [
       "<Figure size 640x480 with 2 Axes>"
      ]
     },
     "metadata": {},
     "output_type": "display_data"
    }
   ],
   "source": [
    "import numpy as np\n",
    "import matplotlib.pyplot as plt\n",
    "\n",
    "# Generate a random 2D array for demonstration\n",
    "data = integer_array \n",
    "\n",
    "# Create a heatmap\n",
    "plt.imshow(data, cmap='viridis', interpolation='nearest')\n",
    "plt.colorbar()  # add colorbar on the right side of the plot\n",
    "plt.show()\n"
   ]
  },
  {
   "cell_type": "code",
   "execution_count": 23,
   "id": "da0f653f",
   "metadata": {},
   "outputs": [
    {
     "name": "stdout",
     "output_type": "stream",
     "text": [
      "(1000, 33, 4)\n",
      "<class 'list'>\n"
     ]
    }
   ],
   "source": [
    "print(np.shape(mc))\n",
    "print(type(mc))"
   ]
  },
  {
   "cell_type": "code",
   "execution_count": 8,
   "id": "6468b7f3",
   "metadata": {},
   "outputs": [],
   "source": [
    "import numpy as np\n",
    "\n",
    "# Create a sample 3D NumPy array\n",
    "array_3d = np.stack(mc)\n",
    "\n",
    "# Save the 3D array to a text file\n",
    "np.savetxt('output.txt', array_3d.reshape(-1, 4), delimiter=' ')\n",
    "\n",
    "\n"
   ]
  },
  {
   "cell_type": "code",
   "execution_count": 14,
   "id": "2dea92cf",
   "metadata": {},
   "outputs": [],
   "source": [
    "import numpy as np\n",
    "\n",
    "# Create a sample 3D NumPy array\n",
    "array_3d = np.stack(mc1)\n",
    "\n",
    "# Save the 3D array to a text file\n",
    "np.savetxt('output_cars.txt', array_3d.reshape(-1, 4), delimiter=' ')"
   ]
  },
  {
   "cell_type": "code",
   "execution_count": 22,
   "id": "edf614da",
   "metadata": {},
   "outputs": [
    {
     "name": "stdout",
     "output_type": "stream",
     "text": [
      "[[  276   822  5811  4189]\n",
      " [ 2289  3766  3262  1347]\n",
      " [  791   934   422  5636]\n",
      " [  595   744  4450 10368]\n",
      " [  508  1339   209  6231]\n",
      " [  734   191  1109  5970]\n",
      " [  276   723  1195  9607]\n",
      " [ 3561   410  1005  8983]\n",
      " [ 4070   879  1190  1658]\n",
      " [ 1606   573  4157  8677]\n",
      " [  587   114   196   724]\n",
      " [ 3589  1367   456  8940]\n",
      " [ 2941   987   561  8924]\n",
      " [    0   772  1023   894]\n",
      " [ 2266   398  3109 11097]\n",
      " [ 1195   682  7513  3660]\n",
      " [   40   311  2240  1137]\n",
      " [ 3510  1773  3239 20312]\n",
      " [ 2855  2079   604  2639]\n",
      " [ 1899   809  1314  2412]\n",
      " [  218   472  3424  2044]\n",
      " [   28  2296  1440  6442]\n",
      " [  538  2931   178  3478]\n",
      " [ 1133   190  3769  3273]\n",
      " [ 2923   501  4427   509]\n",
      " [  148   272   271  8949]\n",
      " [  967  2235   980   797]\n",
      " [ 1161   629  1967  3757]\n",
      " [ 1909   484  3334  7439]\n",
      " [   90  2239   660  2469]\n",
      " [ 2914   130  1685  3567]\n",
      " [ 1378  1694  2615  1070]\n",
      " [  262  1243  2208  1203]]\n"
     ]
    }
   ],
   "source": [
    "print(mc1[0])"
   ]
  },
  {
   "cell_type": "code",
   "execution_count": 3,
   "id": "b39143d0",
   "metadata": {},
   "outputs": [],
   "source": [
    "import random\n",
    "# num_A+num_B+num_C+num_D=sum(arr)\n",
    "def distribution(arr, num_A, num_B_1,num_B_2, num_C_2,num_C_3, num_D_3, num_D_4):\n",
    "    limit_1=[]\n",
    "    limit_2=[]\n",
    "    limit_3=[]\n",
    "    limit_4=[]\n",
    "    for i in range(len(arr)):\n",
    "        limit_1.append(arr[i][0])\n",
    "        limit_2.append(arr[i][1])\n",
    "        limit_3.append(arr[i][2])\n",
    "        limit_4.append(arr[i][3])\n",
    "\n",
    "    # result[:][0]=A, result[:][1]=B , result[:][2]=C, \n",
    "    # Total number of objects to distribute\n",
    "    total_objects_A = num_A-(500*33)\n",
    "    num_areas=len(arr)\n",
    "    # Initialize an array to store the distribution\n",
    "    distribution_A = [500] * num_areas\n",
    "\n",
    "    # Distribute objects to people while respecting their limits\n",
    "    while total_objects_A > 0:\n",
    "        # Choose a random person\n",
    "        person = random.randint(0, num_areas - 1)\n",
    "\n",
    "        # Check if the selected person has reached their limit\n",
    "        if distribution_A[person] < limit_4[person]:\n",
    "            # Distribute one object to the selected person\n",
    "            obj = random.randint(1,1+ min(int(total_objects_A/10),int((limit_4[person]-distribution_A[person]))))\n",
    "            distribution_A[person] += obj\n",
    "            total_objects_A -= obj\n",
    "    total_objects_B_1 = num_B_1-(250*33)\n",
    "    # Print the distribution\n",
    "    distribution_B_1 = [250] * num_areas\n",
    "    while total_objects_B_1 > 0:\n",
    "        # Choose a random person\n",
    "        person = random.randint(0, num_areas - 1)\n",
    "\n",
    "        # Check if the selected person has reached their limit\n",
    "        if (distribution_B_1[person] +distribution_A[person]) < limit_4[person]:\n",
    "            # Distribute one object to the selected person\n",
    "            obj = random.randint(1,1+ min(int(total_objects_B_1/10),int((limit_4[person]-distribution_B_1[person]-distribution_A[person]))))\n",
    "            distribution_B_1[person] += obj\n",
    "            total_objects_B_1 -= obj\n",
    "    # Total number of objects to distribute\n",
    "    distribution_B_2 = [250] * num_areas\n",
    "    total_objects_B_2 = num_B_2-(33*250)\n",
    "    while total_objects_B_2 > 0:\n",
    "        # Choose a random person\n",
    "        person = random.randint(0, num_areas - 1)\n",
    "\n",
    "        # Check if the selected person has reached their limit\n",
    "        if (distribution_B_2[person]) < limit_3[person]:\n",
    "            # Distribute one object to the selected person\n",
    "            obj = random.randint(1,1+ min(int(total_objects_B_2/10),int((limit_3[person]-distribution_B_2[person]))))\n",
    "            distribution_B_2[person] += obj\n",
    "            total_objects_B_2 -= obj\n",
    "            \n",
    "    distribution_C_2 = [250] * num_areas\n",
    "    total_objects_C_2 = num_C_2 -(33*250)       \n",
    "    while total_objects_C_2 > 0:\n",
    "        # Choose a random person\n",
    "        person = random.randint(0, num_areas - 1)\n",
    "\n",
    "        # Check if the selected person has reached their limit\n",
    "        if (distribution_C_2[person]+distribution_B_2[person]) < limit_3[person]:\n",
    "            # Distribute one object to the selected person\n",
    "            obj = random.randint(1,1+ min(int(total_objects_C_2/10),int((limit_3[person]-distribution_C_2[person]-distribution_B_2[person]))))\n",
    "            distribution_C_2[person] += obj\n",
    "            total_objects_C_2 -= obj\n",
    "            \n",
    "    total_objects_C_3 = num_C_3-(33*250)\n",
    "    distribution_C_3 = [250] * num_areas\n",
    "    while total_objects_C_3 > 0:\n",
    "        # Choose a random person\n",
    "        person = random.randint(0, num_areas - 1)\n",
    "\n",
    "        # Check if the selected person has reached their limit\n",
    "        if (distribution_C_3[person]) < limit_2[person]:\n",
    "            # Distribute one object to the selected person\n",
    "            obj = random.randint(1,1+ min(int(total_objects_C_3/10),int((limit_2[person]-distribution_C_3[person]))))\n",
    "            distribution_C_3[person] += obj\n",
    "            total_objects_C_3 -= obj\n",
    "    # Initialize an array to store the distribution\n",
    "    # Distribute objects to people while respecting their limits\n",
    "    \n",
    "    distribution_D_3 = [500] * num_areas\n",
    "    total_objects_D_3 = num_D_3 -(33*500)       \n",
    "    while total_objects_D_3 > 0:\n",
    "        # Choose a random person\n",
    "        person = random.randint(0, num_areas - 1)\n",
    "\n",
    "        # Check if the selected person has reached their limit\n",
    "        if (distribution_D_3[person]+distribution_C_3[person]) < limit_2[person]:\n",
    "            # Distribute one object to the selected person\n",
    "            obj = random.randint(1,1+ min(int(total_objects_D_3/10),int((limit_2[person]-distribution_C_3[person]-distribution_D_3[person]))))\n",
    "            distribution_D_3[person] += obj\n",
    "            total_objects_D_3 -= obj\n",
    "    \n",
    "    total_objects_D_4 = num_D_4-(500*33)\n",
    "\n",
    "    # Initialize an array to store the distribution\n",
    "    distribution_D_4 = [500] * num_areas\n",
    "\n",
    "    # Distribute objects to people while respecting their limits\n",
    "    while total_objects_D_4 > 0:\n",
    "        # Choose a random person\n",
    "        person = random.randint(0, num_areas - 1)\n",
    "\n",
    "        # Check if the selected person has reached their limit\n",
    "        if distribution_D_4[person] < limit_1[person]:\n",
    "            # Distribute one object to the selected person\n",
    "            obj = random.randint(1,1+ min(int(total_objects_D_4/10),int((limit_1[person]-distribution_D_4[person]))))\n",
    "            distribution_D_4[person] += obj\n",
    "            total_objects_D_4 -= obj\n",
    "    distribution_B=[0]*num_areas\n",
    "    distribution_C=[0]*num_areas\n",
    "    distribution_D=[0]*num_areas\n",
    "    for i in range(33):\n",
    "        distribution_B[i]=distribution_B_1[i]+distribution_B_2[i]\n",
    "        distribution_C[i]=distribution_C_2[i]+distribution_C_3[i]\n",
    "        distribution_D[i]=distribution_D_3[i]+distribution_D_4[i]\n",
    "    result=[distribution_A,distribution_B, distribution_C, distribution_D]\n",
    "\n",
    "    return np.transpose(result)"
   ]
  },
  {
   "cell_type": "code",
   "execution_count": 6,
   "id": "b519ff03-589f-4d3b-bcef-fc6cc70b820f",
   "metadata": {},
   "outputs": [],
   "source": [
    "arr=[[27750, 67563, 36484, 1070], [13199, 97349, 51610, 269], [1070, 17860, 31301, 1479], [21636, 27858, 15576, 1050], [44198, 43392, 23189, 1838], [36049, 19902, 15836, 4969], [58250, 29749, 20077, 4543], [4656, 23842, 30261, 2872], [4962, 36462, 14586, 29], [7988, 91839, 33022, 18], [32960, 77301, 49774, 2393], [26081, 57444, 56154, 7880], [62186, 53329, 54558, 22144], [11539, 14841, 19223, 9492], [27556, 43824, 50645, 15007], [143121, 73093, 49329, 11162], [171833, 112648, 92588, 27638], [90528, 56613, 39209, 8160], [5532, 43700, 47468, 1764], [10518, 27577, 39983, 11541], [20938, 36054, 24512, 1926], [30092, 34386, 42429, 20967], [51839, 24891, 24913, 15353], [52395, 45621, 50214, 24188], [12259, 20341, 30034, 15568], [179307, 98993, 78768, 24717], [45081, 146114, 24322, 11], [32851, 37705, 29703, 4976], [49152, 48707, 47386, 14912], [4823, 21403, 42642, 13644], [4684, 74682, 47364, 119], [112578, 217496, 104122, 3009], [49713, 38898, 48226, 35580]]"
   ]
  },
  {
   "cell_type": "code",
   "execution_count": 10,
   "id": "8214f5bf",
   "metadata": {},
   "outputs": [],
   "source": [
    "\n",
    "\n",
    "s=distribution(arr,41863, 65317, 587853, 729550, 729550, 378036,94509)"
   ]
  },
  {
   "cell_type": "code",
   "execution_count": 6,
   "id": "16534b2b-f7a3-4d0e-b06d-1f839ad37abd",
   "metadata": {},
   "outputs": [
    {
     "name": "stdout",
     "output_type": "stream",
     "text": [
      "[137193 749791 627716  13233]\n"
     ]
    }
   ],
   "source": [
    "import numpy as np\n",
    "column_sums = np.sum(arr, axis=0)\n",
    "print(column_sums)\n",
    "41863 653170 1459100 472546\n"
   ]
  },
  {
   "cell_type": "code",
   "execution_count": 8,
   "id": "00d5d946-295f-4018-99fe-6926bd6e3338",
   "metadata": {},
   "outputs": [
    {
     "name": "stdout",
     "output_type": "stream",
     "text": [
      "1527933\n"
     ]
    }
   ],
   "source": [
    "print(sum(column_sums))"
   ]
  },
  {
   "cell_type": "code",
   "execution_count": 11,
   "id": "d1aece2e",
   "metadata": {},
   "outputs": [
    {
     "name": "stdout",
     "output_type": "stream",
     "text": [
      "[[   628  22934  74549   8262]\n",
      " [   500  46093  46180  12474]\n",
      " [  1479  28619   4692  13015]\n",
      " [  1051   2839  40847   2287]\n",
      " [  1839  13661  10330   8066]\n",
      " [   671  17570  12460   6468]\n",
      " [  3088   1558  47805   2447]\n",
      " [  2760    583  32380   2322]\n",
      " [   500  14272  36717   1670]\n",
      " [   500   9597  41981  30673]\n",
      " [  2384  24439  62504  23694]\n",
      " [  2097   9588  97815  18771]\n",
      " [   589  33511  22865  42292]\n",
      " [  1348  23395  10692   9057]\n",
      " [   724  53702  44353   1347]\n",
      " [  1539  29100  29198   7400]\n",
      " [  2959   7777  85777  31286]\n",
      " [   566   7612  43638  11547]\n",
      " [   883   1964  59335  25486]\n",
      " [   947   5477  49745   8723]\n",
      " [   849   7018  25568   7879]\n",
      " [   618  13228  37093   8168]\n",
      " [  1419  22406  14736  18967]\n",
      " [   809  43578  28324  22934]\n",
      " [  1891  33489  18906   5015]\n",
      " [  1508   8845 112482  21150]\n",
      " [   500  15542  35289  55359]\n",
      " [  1767   3982  51448   6135]\n",
      " [   742  27385  70036   1119]\n",
      " [  1734  14091  51815   2644]\n",
      " [   500  45083  17695  14940]\n",
      " [   846  48496  69829  35060]\n",
      " [  1628  15736  72016   5888]]\n"
     ]
    }
   ],
   "source": [
    "print(s)"
   ]
  },
  {
   "cell_type": "code",
   "execution_count": 28,
   "id": "fbfd461d",
   "metadata": {},
   "outputs": [
    {
     "name": "stdout",
     "output_type": "stream",
     "text": [
      "[ 801273 1176337 1278626 1727568]\n"
     ]
    }
   ],
   "source": [
    "\n",
    "column_sums = np.sum(s, axis=0)\n",
    "print(column_sums)"
   ]
  },
  {
   "cell_type": "code",
   "execution_count": 29,
   "id": "c15d110c",
   "metadata": {},
   "outputs": [
    {
     "name": "stdout",
     "output_type": "stream",
     "text": [
      "4983804\n"
     ]
    }
   ],
   "source": [
    "print(sum(column_sums))"
   ]
  },
  {
   "cell_type": "code",
   "execution_count": 30,
   "id": "6852ae82",
   "metadata": {},
   "outputs": [],
   "source": [
    "arr=[702716,417995,613652,537316,584039,644408,870668]\n",
    "for i in range(7):\n",
    "    arr[i]=int(arr[i]/4370794*4983808)"
   ]
  },
  {
   "cell_type": "code",
   "execution_count": 31,
   "id": "abe66710",
   "metadata": {},
   "outputs": [
    {
     "name": "stdout",
     "output_type": "stream",
     "text": [
      "[801273, 476619, 699718, 612675, 665951, 734787, 992781]\n"
     ]
    }
   ],
   "source": [
    "print(arr)"
   ]
  },
  {
   "cell_type": "code",
   "execution_count": null,
   "id": "dd827edb",
   "metadata": {},
   "outputs": [],
   "source": []
  },
  {
   "cell_type": "code",
   "execution_count": null,
   "id": "96ed3ee2",
   "metadata": {},
   "outputs": [],
   "source": []
  }
 ],
 "metadata": {
  "kernelspec": {
   "display_name": "Python 3 (ipykernel)",
   "language": "python",
   "name": "python3"
  },
  "language_info": {
   "codemirror_mode": {
    "name": "ipython",
    "version": 3
   },
   "file_extension": ".py",
   "mimetype": "text/x-python",
   "name": "python",
   "nbconvert_exporter": "python",
   "pygments_lexer": "ipython3",
   "version": "3.11.7"
  }
 },
 "nbformat": 4,
 "nbformat_minor": 5
}
