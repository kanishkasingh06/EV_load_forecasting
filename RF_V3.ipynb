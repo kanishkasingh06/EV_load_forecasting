{
 "cells": [
  {
   "cell_type": "code",
   "execution_count": 1,
   "id": "214d9a42",
   "metadata": {},
   "outputs": [],
   "source": [
    "import pandas as pd\n",
    "from sklearn.model_selection import train_test_split\n",
    "from sklearn.ensemble import RandomForestRegressor\n",
    "from sklearn.metrics import mean_squared_error, r2_score\n",
    "import matplotlib.pyplot as plt\n",
    "\n",
    "# Load the data for cities A, B, C, and D\n",
    "city_A_data = pd.read_csv('Amsterdam.csv')\n",
    "city_B_data = pd.read_csv('Beijing.csv')\n",
    "city_C_data = pd.read_csv('NewYork.csv')\n",
    "city_D_data = pd.read_csv('Paris.csv')\n",
    "city_E_data = pd.read_csv('Berlin.csv')\n",
    "city_F_data = pd.read_csv('London.csv')\n",
    "city_G_data = pd.read_csv('Delhi.csv')\n",
    "\n",
    "# Concatenate data from cities A, B, and C to create a combined dataset\n",
    "combined_data = pd.concat([city_A_data, city_B_data, city_C_data, city_D_data, city_E_data ,city_F_data ], ignore_index=True)\n",
    "\n",
    "# Define the features (independent variables) and the targets (dependent variables) for the combined dataset\n",
    "X_combined = combined_data[['CPI', 'GNI per capita ', 'Average years of schooling',\n",
    "       'Life expectancy (years)', 'CO2 level (t/capita)', 'PM2.5 pollution',\n",
    "       'Per capita energy consumption (kWh)']]\n",
    "y_combined = combined_data[['EVs sold as a percentage of entry-level cars',\n",
    "       'EVs sold as a percentage of compact cars',\n",
    "       'EVs sold as a percentage of mid-size cars',\n",
    "       'EVs sold as a percentage of premium cars']]\n",
    "\n",
    "# Split the combined data into training and testing sets\n",
    "X_combined_train, X_combined_test, y_combined_train, y_combined_test = train_test_split(X_combined, y_combined, test_size=0.2, random_state=42)\n",
    "\n",
    "# Create a Random Forest Regressor model for non-linear regression\n",
    "model = RandomForestRegressor(n_estimators=100, random_state=42)\n",
    "\n",
    "# Train the model on the combined data\n",
    "model.fit(X_combined_train, y_combined_train)\n",
    "\n",
    "# Load the features for city F\n",
    "X_F = city_F_data[['CPI', 'GNI per capita ', 'Average years of schooling',\n",
    "       'Life expectancy (years)', 'CO2 level (t/capita)', 'PM2.5 pollution',\n",
    "       'Per capita energy consumption (kWh)']]\n",
    "# Predict EV sales percentages for city F\n",
    "predicted_sales_percentages_G = model.predict(X_F)\n",
    "\n",
    "\n"
   ]
  },
  {
   "cell_type": "code",
   "execution_count": 2,
   "id": "2bdb6411",
   "metadata": {
    "scrolled": true
   },
   "outputs": [
    {
     "name": "stdout",
     "output_type": "stream",
     "text": [
      "[[0.03137  0.01907  0.00971  0.00588 ]\n",
      " [0.032143 0.019712 0.01136  0.007905]\n",
      " [0.036115 0.021723 0.01254  0.00834 ]\n",
      " [0.039745 0.023693 0.01389  0.00919 ]\n",
      " [0.042225 0.025253 0.01531  0.0101  ]\n",
      " [0.04909  0.02897  0.01677  0.01007 ]\n",
      " [0.05507  0.03281  0.01924  0.012345]\n",
      " [0.05906  0.03558  0.0214   0.01432 ]\n",
      " [0.06347  0.03817  0.02279  0.01574 ]\n",
      " [0.06897  0.04182  0.02511  0.01787 ]\n",
      " [0.07503  0.04575  0.02763  0.01983 ]\n",
      " [0.07935  0.04939  0.02954  0.02165 ]]\n"
     ]
    }
   ],
   "source": [
    "print(predicted_sales_percentages_G)"
   ]
  },
  {
   "cell_type": "code",
   "execution_count": null,
   "id": "38da8d59",
   "metadata": {},
   "outputs": [],
   "source": [
    "import numpy as np\n",
    "import csv\n",
    "\n",
    "# Given 2D array\n",
    "data = np.array([\n",
    "    [0.03137, 0.01907, 0.00971, 0.00588],\n",
    "    [0.032143, 0.019712, 0.01136, 0.007905],\n",
    "    [0.036115, 0.021723, 0.01254, 0.00834],\n",
    "    [0.039745, 0.023693, 0.01389, 0.00919],\n",
    "    [0.042225, 0.025253, 0.01531, 0.0101],\n",
    "    [0.04909, 0.02897, 0.01677, 0.01007],\n",
    "    [0.05507, 0.03281, 0.01924, 0.012345],\n",
    "    [0.05906, 0.03558, 0.0214, 0.01432],\n",
    "    [0.06347, 0.03817, 0.02279, 0.01574],\n",
    "    [0.06897, 0.04182, 0.02511, 0.01787],\n",
    "    [0.07503, 0.04575, 0.02763, 0.01983],\n",
    "    [0.07935, 0.04939, 0.02954, 0.02165]\n",
    "])\n",
    "\n",
    "# Specify the file name\n",
    "file_name = \"heatmap_data.csv\"\n",
    "\n",
    "# Write the array to a CSV file\n",
    "with open(file_name, 'w', newline='') as csvfile:\n",
    "    csvwriter = csv.writer(csvfile)\n",
    "    csvwriter.writerows(data)\n",
    "\n",
    "print(f\"The CSV file '{file_name}' has been created.\")\n"
   ]
  },
  {
   "cell_type": "code",
   "execution_count": null,
   "id": "4772a05b",
   "metadata": {},
   "outputs": [],
   "source": []
  }
 ],
 "metadata": {
  "kernelspec": {
   "display_name": "Python 3 (ipykernel)",
   "language": "python",
   "name": "python3"
  },
  "language_info": {
   "codemirror_mode": {
    "name": "ipython",
    "version": 3
   },
   "file_extension": ".py",
   "mimetype": "text/x-python",
   "name": "python",
   "nbconvert_exporter": "python",
   "pygments_lexer": "ipython3",
   "version": "3.10.9"
  }
 },
 "nbformat": 4,
 "nbformat_minor": 5
}
